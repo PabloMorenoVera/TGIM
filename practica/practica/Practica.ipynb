{
 "cells": [
  {
   "cell_type": "code",
   "execution_count": null,
   "metadata": {},
   "outputs": [],
   "source": [
    "#Representar gráficas inline\n",
    "%matplotlib inline\n",
    "import matplotlib.pyplot as plt\n",
    "import numpy as np\n",
    "#Importa el módulo de pandas\n",
    "import pandas as pd\n",
    "\n",
    "# Imports para hacer el knn\n",
    "from sklearn.model_selection import train_test_split\n",
    "from sklearn.model_selection import train_test_split\n",
    "from sklearn.preprocessing import MinMaxScaler\n",
    "from sklearn.neighbors import KNeighborsClassifier\n",
    "from sklearn.metrics import classification_report\n",
    "from sklearn.metrics import confusion_matrix\n",
    "\n",
    "#Lea el documento diabetes.csv. Recuerde que el fichero debe estar en el mismo directorio en el que esté creando el \n",
    "#notebook o bien debe indicar el path completo.\n",
    "dataTraining = pd.read_csv('poker-hand-training-true.data',sep = ',')\n",
    "dataTraining = dataTraining.rename(index=str, columns={\"1\": \"Suit_1\", \"10\": \"Rank_1\", \"1.1\": \"Suit_2\", \"11\": \"Rank_2\", \"1.2\": \"Suit_3\", \"13\": \"Rank_3\", \"1.3\": \"Suit_4\", \"12\": \"Rank_4\", \"1.4\": \"Suit_5\", \"1.5\": \"Rank_5\", \"9\": \"Hand\"})\n",
    "dataTest = pd.read_csv('poker-hand-testing.data', sep = ',')\n",
    "dataTest = dataTest.rename(index=str, columns={\"1\": \"Suit_1\", \"1.1\": \"Rank_1\", \"1.2\": \"Suit_2\", \"13\": \"Rank_2\", \"2\": \"Suit_3\", \"4\": \"Rank_3\", \"2.1\": \"Suit_4\", \"3\": \"Rank_4\", \"1.3\": \"Suit_5\", \"12\": \"Rank_5\", \"0\": \"Hand\"})\n",
    "dataFrame = pd.concat([dataTraining, dataTest])\n",
    "#dataFrame"
   ]
  },
  {
   "cell_type": "code",
   "execution_count": null,
   "metadata": {},
   "outputs": [],
   "source": [
    "# Adecuación de la base de datos.\n",
    "\n",
    "dataFrame = dataFrame[dataFrame.Hand.isin([0,1])]  # Escogemos las observaciones que tengan par o impar."
   ]
  },
  {
   "cell_type": "code",
   "execution_count": null,
   "metadata": {},
   "outputs": [],
   "source": [
    "# Cambiamos los nombres del palo de la carta.\n",
    "dataFrame['Suit_1'] = dataFrame['Suit_1'].map({1:'Hearts', 2:'Spades', 3:'Diamond', 4:'Clubs'})\n",
    "dataFrame['Suit_2'] = dataFrame['Suit_2'].map({1:'Hearts', 2:'Spades', 3:'Diamond', 4:'Clubs'})\n",
    "dataFrame['Suit_3'] = dataFrame['Suit_3'].map({1:'Hearts', 2:'Spades', 3:'Diamond', 4:'Clubs'})\n",
    "dataFrame['Suit_4'] = dataFrame['Suit_4'].map({1:'Hearts', 2:'Spades', 3:'Diamond', 4:'Clubs'})\n",
    "dataFrame['Suit_5'] = dataFrame['Suit_5'].map({1:'Hearts', 2:'Spades', 3:'Diamond', 4:'Clubs'})"
   ]
  },
  {
   "cell_type": "code",
   "execution_count": null,
   "metadata": {},
   "outputs": [],
   "source": [
    "dataFrame = pd.get_dummies(dataFrame)   #variables categóricas ----> variables numéricas"
   ]
  },
  {
   "cell_type": "code",
   "execution_count": null,
   "metadata": {},
   "outputs": [],
   "source": [
    "#resumen de los datos\n",
    "dataFrame.describe()"
   ]
  },
  {
   "cell_type": "code",
   "execution_count": null,
   "metadata": {},
   "outputs": [],
   "source": [
    "# Visualizaciones\n",
    "\n",
    "dataFrame['Rank_1'].plot.hist(x = 'Age', alpha = 0.5)\n",
    "plt.figure()\n",
    "#dataFrame['Suit_1'].plot.hist(x='BMI', alpha=0.5)\n",
    "#plt.figure()\n",
    "dataFrame['Hand'].plot.hist(x='BMI', alpha=0.5)"
   ]
  },
  {
   "cell_type": "code",
   "execution_count": null,
   "metadata": {},
   "outputs": [],
   "source": [
    "# Correlaciones\n",
    "\n",
    "from pandas.plotting import scatter_matrix\n",
    "\n",
    "scatter_matrix(dataFrame, alpha = 0.2, figsize = (12,12), diagonal = 'kde')\n",
    "\n",
    "#dataFrame.corr()"
   ]
  },
  {
   "cell_type": "code",
   "execution_count": null,
   "metadata": {},
   "outputs": [],
   "source": [
    "X = dataFrame[['Rank_1','Suit_1_Clubs', 'Suit_1_Diamond', 'Suit_1_Hearts', 'Suit_1_Spades','Rank_2', 'Suit_2_Clubs', 'Suit_2_Diamond', 'Suit_2_Hearts', 'Suit_2_Spades','Rank_3', 'Suit_3_Clubs', 'Suit_3_Diamond', 'Suit_3_Hearts', 'Suit_3_Spades', 'Rank_4', 'Suit_4_Clubs', 'Suit_4_Diamond', 'Suit_4_Hearts', 'Suit_4_Spades']].values\n",
    "y = dataFrame['Hand'].values\n",
    "\n",
    "X_train, X_test, y_train, y_test = train_test_split(X, y, test_size=0.3)\n",
    "scaler = MinMaxScaler()\n",
    "X_train = scaler.fit_transform(X_train)\n",
    "X_test = scaler.transform(X_test)"
   ]
  },
  {
   "cell_type": "code",
   "execution_count": null,
   "metadata": {},
   "outputs": [],
   "source": [
    "n_neighbors = 3\n",
    " \n",
    "knn = KNeighborsClassifier(n_neighbors)\n",
    "knn.fit(X_train, y_train)\n",
    "print('Accuracy of K-NN classifier on training set: {:.2f}'.format(knn.score(X_train, y_train)))\n",
    "print('Accuracy of K-NN classifier on test set: {:.2f}'.format(knn.score(X_test, y_test)))"
   ]
  },
  {
   "cell_type": "code",
   "execution_count": null,
   "metadata": {},
   "outputs": [],
   "source": []
  }
 ],
 "metadata": {
  "kernelspec": {
   "display_name": "Python 3",
   "language": "python",
   "name": "python3"
  },
  "language_info": {
   "codemirror_mode": {
    "name": "ipython",
    "version": 3
   },
   "file_extension": ".py",
   "mimetype": "text/x-python",
   "name": "python",
   "nbconvert_exporter": "python",
   "pygments_lexer": "ipython3",
   "version": "3.7.0"
  }
 },
 "nbformat": 4,
 "nbformat_minor": 2
}
